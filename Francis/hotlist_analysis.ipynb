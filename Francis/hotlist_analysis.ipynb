{
 "cells": [
  {
   "cell_type": "markdown",
   "metadata": {},
   "source": [
    "# See README first"
   ]
  },
  {
   "cell_type": "code",
   "execution_count": 209,
   "metadata": {},
   "outputs": [
    {
     "name": "stdout",
     "output_type": "stream",
     "text": [
      "[nltk_data] Downloading package wordnet to\n",
      "[nltk_data]     /Users/francisbian/nltk_data...\n",
      "[nltk_data]   Package wordnet is already up-to-date!\n"
     ]
    }
   ],
   "source": [
    "import sys\n",
    "import csv\n",
    "from langdetect import detect\n",
    "import nltk\n",
    "from nltk.corpus import stopwords\n",
    "import string\n",
    "from collections import defaultdict\n",
    "import matplotlib.pyplot as plt\n",
    "import numpy as np\n",
    "import pandas as pd\n",
    "import nltk\n",
    "nltk.download('wordnet')\n",
    "from nltk.stem.wordnet import WordNetLemmatizer\n",
    "from sklearn.feature_extraction.text import TfidfVectorizer\n",
    "lem = WordNetLemmatizer()"
   ]
  },
  {
   "cell_type": "code",
   "execution_count": 242,
   "metadata": {},
   "outputs": [
    {
     "name": "stdout",
     "output_type": "stream",
     "text": [
      "!\"#$%&'()*+,-./:;<=>?@[\\]^_`{|}~\n",
      "{'am', 'with', 'after', 'was', 'both', \"should've\", 'at', 'most', 'yourselves', 'or', 'how', 'hers', 'some', 'over', 'about', 'they', \"haven't\", \"didn't\", \"hadn't\", 'just', \"wouldn't\", \"wasn't\", 'herself', 'do', 'up', 'should', 'why', 'mightn', 'him', 'themselves', 'a', 'im', 'further', 'having', 'no', 'needn', 'aren', 'too', 'did', \"mightn't\", 'ours', 'shan', 'ma', 'can', 'these', 'out', 'were', 'will', 'theirs', 'does', 'same', \"shouldn't\", 'against', 'than', 'he', 've', 'not', 'had', \"it's\", 'know', 'each', 'where', 'more', 're', \"couldn't\", 'ain', 'mustn', 'wasn', 'those', 'shouldn', 'again', 'under', 'o', 'for', \"isn't\", \"needn't\", 'weren', 'say', 'then', 'here', 'our', 'being', \"you're\", 'whom', 'me', 'their', 'his', 'an', 'until', 'into', 'itself', 'which', 'myself', 'i', 'below', 'all', \"doesn't\", 'isn', 'what', 'are', 'before', 'hasn', 'of', 'couldn', 'go', 'himself', \"weren't\", \"she's\", 'll', 'own', 's', 'if', \"hasn't\", 'down', \"that'll\", 'there', 'dont', 'haven', 'wouldn', 'm', 'its', 't', \"you'll\", 'get', 'has', 'few', \"shan't\", 'but', 'between', 'is', 'so', 'this', 'won', 'don', 'didn', 'the', 'my', 'now', \"you've\", 'doing', 'doesn', 'very', 'y', 'who', 'been', 'as', 'you', 'she', 'above', 'hadn', 'such', 'it', \"don't\", 'during', 'them', 'that', 'yourself', 'your', 'to', 'because', 'we', 'ourselves', \"mustn't\", 'in', 'have', 'once', 'off', 'nor', 'be', 'through', 'from', 'and', 'when', 'yours', 'on', 'her', 'd', 'other', 'only', 'any', \"won't\", 'while', 'by', \"you'd\", \"aren't\"}\n"
     ]
    }
   ],
   "source": [
    "csv.field_size_limit(sys.maxsize)\n",
    "print(string.punctuation)\n",
    "stop_words = set(stopwords.words('english'))\n",
    "additional_word = set(['im', 'get', 'say', 'go', 'dont', 'know'])\n",
    "stop_words = stop_words.union(additional_word)\n",
    "print(stop_words)"
   ]
  },
  {
   "cell_type": "code",
   "execution_count": null,
   "metadata": {},
   "outputs": [],
   "source": []
  },
  {
   "cell_type": "markdown",
   "metadata": {},
   "source": [
    "# For the hot100 dataset\n",
    "## In general:\n",
    "#### 1) Artist owns the most songs that appears in billboard?\n",
    "#### 2) Artist appears most in billboard (by cnt)?\n",
    "#### 3) How many songs will be in the 52 weekly hot100 list per year? - around 400 - 800\n",
    "#### 4) Songs that appear in the hot100 list most.\n",
    "#### 5) Artist whose song always achieved a high rank on the list.\n",
    "#### 6) Song appears/gaps in most years\n",
    "\n",
    "\n",
    "## Changes through years:\n",
    "#### 1) commonly used words of lyrics - How they differed and how aligned?\n",
    "#### 2) What is the average (highest) rank of songs?\n",
    "#### 3) How many artists show up in the billboard ever year?\n",
    "#### 4) Does the average number of occurrence of the hot100 songs increase/decrease each year?\n",
    "#### 5) How about the length of lyrics?\n",
    "\n",
    "## Interesting things:\n",
    "#### 1) Songs/Artists that appear again in the hotlist after a long period. \n",
    "#### 2) Songs become hot way later than its release date.\n",
    "#### 3) Songs are popular until nowadays"
   ]
  },
  {
   "cell_type": "code",
   "execution_count": 262,
   "metadata": {},
   "outputs": [],
   "source": [
    "# For test the unit functions\n",
    "df = pd.read_csv('../combined_dataset/lyrics&features_{}.csv'.format(1960))"
   ]
  },
  {
   "cell_type": "code",
   "execution_count": 243,
   "metadata": {},
   "outputs": [],
   "source": [
    "# Extract the bag of words for an entire year. Then we could do TF-IDF or text-based analysis.\n",
    "def get_yearly_word_list(df):\n",
    "    yearly_word_list = []\n",
    "    for i in range(len(df)):\n",
    "        li = df.loc[i,'words'].replace('\\'', '')\n",
    "        li = li.strip('][').split(', ') \n",
    "        if len(li) != 0:\n",
    "            yearly_word_list += [w for w in li if w not in stop_words]\n",
    "    return yearly_word_list"
   ]
  },
  {
   "cell_type": "code",
   "execution_count": 147,
   "metadata": {},
   "outputs": [],
   "source": [
    "# Get average length of the lyrics from this year\n",
    "# Exclude the top 3 longest and 3 shortest\n",
    "def get_average_length(df, exclude=3):\n",
    "    sorted_valid_length = sorted([df.loc[i, 'lyrics_length'] for i in range(len(df)) if df.loc[i, 'lyrics_length'] != 0])\n",
    "    sorted_valid_length = sorted_valid_length[exclude: len(sorted_valid_length) - exclude]\n",
    "    return sum(sorted_valid_length)/len(sorted_valid_length)"
   ]
  },
  {
   "cell_type": "code",
   "execution_count": 259,
   "metadata": {},
   "outputs": [],
   "source": [
    "# Get average occurrence of songs in this year's billboard \n",
    "def get_average_occ(df):\n",
    "    return sum([df.loc[i, 'cnt'] for i in range(len(df))])/len(df)"
   ]
  },
  {
   "cell_type": "code",
   "execution_count": 375,
   "metadata": {},
   "outputs": [],
   "source": [
    "# Get average highest rank\n",
    "def get_average_highest_rank(df):\n",
    "    rank_list = []\n",
    "    for i in range(len(df)):\n",
    "        rk = df.loc[i,'rank'].replace('\\'', '')\n",
    "        rk = rk.strip('][').split(', ') \n",
    "        rk = [int(i) for i in rk] \n",
    "        if len(rk) != 0:\n",
    "            rank_list.append(min(rk))\n",
    "    return sum(rank_list)/len(rank_list)"
   ]
  },
  {
   "cell_type": "code",
   "execution_count": 274,
   "metadata": {},
   "outputs": [],
   "source": [
    "# Get the artists of this year\n",
    "def get_yearly_artists(df):\n",
    "    artists = set()\n",
    "    for i in range(len(df)):\n",
    "        artists.add(df.loc[i,'artists'])\n",
    "    return artists"
   ]
  },
  {
   "cell_type": "code",
   "execution_count": 397,
   "metadata": {},
   "outputs": [],
   "source": [
    "def update_songs(df, year, songs_years_ranks):\n",
    "    for i in range(len(df)):\n",
    "        title = df.loc[i, 'title']\n",
    "        key = title + \" by \" + df.loc[i, 'artists']\n",
    "        rk = df.loc[i,'rank'].replace('\\'', '')\n",
    "        rk = rk.strip('][').split(', ') \n",
    "        rk = [int(i) for i in rk]\n",
    "        if len(rk) == 0:\n",
    "            continue\n",
    "        \n",
    "        if key not in songs_years_ranks:\n",
    "            songs_years_ranks[key] = defaultdict(list)\n",
    "            songs_years_ranks[key][year] = rk\n",
    "        else:\n",
    "            songs_years_ranks[key][year] = rk"
   ]
  },
  {
   "cell_type": "code",
   "execution_count": 398,
   "metadata": {},
   "outputs": [],
   "source": [
    "# Get the released month of the hottest 5 songs\n",
    "# def get_released_month(df):\n",
    "    "
   ]
  },
  {
   "cell_type": "markdown",
   "metadata": {},
   "source": [
    "## Perform on all the dataset"
   ]
  },
  {
   "cell_type": "code",
   "execution_count": 416,
   "metadata": {},
   "outputs": [],
   "source": [
    "# key: year, val: Bags of word in this year\n",
    "yearly_words_dict = {}\n",
    "# key: year, val: average length of lyrics in this year\n",
    "yearly_length_dict = {}\n",
    "# key: year, val: average occurrence in this year's billboard for songs\n",
    "yearly_average_occ = {}\n",
    "# key: year, val: artists that are in the billboard in this year\n",
    "yearly_artists_dict = {}\n",
    "# key: song_title, val:{key: year, val: ranks of this song is this year}\n",
    "songs_years_ranks = {}\n",
    "# key: year, val: average rank of each song is this year\n",
    "yearly_average_highest_rank = {}\n",
    "# key: artist, val: songs by this artist that in the billboard hotlist\n",
    "artist_songs_dict = defaultdict(set)\n",
    "# key: artist, val: number of occurrence in billboard\n",
    "artist_occ_dict = defaultdict(int)\n",
    "\n",
    "artist_set = set()\n",
    "song_set = set()"
   ]
  },
  {
   "cell_type": "code",
   "execution_count": 400,
   "metadata": {},
   "outputs": [],
   "source": [
    "for year in range(1960, 2021):\n",
    "    df = pd.read_csv('../combined_dataset/lyrics&features_{}.csv'.format(year))\n",
    "    for i in range(len(df)):\n",
    "        # artist_set.add(df.loc[i, 'artist_name'])\n",
    "        artist_set.add(df.loc[i, 'artists'])\n",
    "        song_set.add(df.loc[i, 'title'])\n",
    "        \n",
    "        artist_songs_dict[df.loc[i, 'artists']].add(df.loc[i, 'title'])\n",
    "        artist_occ_dict[df.loc[i, 'artists']] += (int)(df.loc[i, 'cnt'])\n",
    "        \n",
    "    yearly_length_dict[year] = get_average_length(df)\n",
    "    yearly_artists_dict[year] = get_yearly_artists(df)\n",
    "    yearly_words_dict[year] = get_yearly_word_list(df)\n",
    "    yearly_average_occ[year] = get_average_occ(df)\n",
    "    update_songs(df, year, songs_years_ranks)\n",
    "    yearly_average_highest_rank[year] = get_average_highest_rank(df)\n",
    "    #yearly_released_month[year] = get_released_month(df)\n",
    "    "
   ]
  },
  {
   "cell_type": "markdown",
   "metadata": {},
   "source": [
    "### Some changes (length, rank, occurrence) according to the years"
   ]
  },
  {
   "cell_type": "code",
   "execution_count": 205,
   "metadata": {},
   "outputs": [
    {
     "data": {
      "image/png": "[encoded data removed]",
      "text/plain": [
       "<Figure size 432x288 with 1 Axes>"
      ]
     },
     "metadata": {},
     "output_type": "display_data"
    }
   ],
   "source": [
    "plt.title(\"Average length\")\n",
    "plt.plot([v for k,v in yearly_length_dict.items()])\n",
    "positions = [i for i in range(0, 61, 10)]\n",
    "labels = [(str)(i + 1960) for i in range(0, 61, 10)]\n",
    "plt.xticks(positions, labels)\n",
    "plt.locator_params(axis='x', nbins=8)"
   ]
  },
  {
   "cell_type": "code",
   "execution_count": 206,
   "metadata": {},
   "outputs": [
    {
     "data": {
      "image/png": "[encoded data removed]",
      "text/plain": [
       "<Figure size 432x288 with 1 Axes>"
      ]
     },
     "metadata": {},
     "output_type": "display_data"
    }
   ],
   "source": [
    "plt.title(\"Average occurrence of each song in the billboard\")\n",
    "plt.plot([v for k,v in yearly_average_occ.items()])\n",
    "positions = [i for i in range(0, 61, 10)]\n",
    "labels = [(str)(i + 1960) for i in range(0, 61, 10)]\n",
    "plt.xticks(positions, labels)\n",
    "plt.locator_params(axis='x', nbins=8)"
   ]
  },
  {
   "cell_type": "code",
   "execution_count": 383,
   "metadata": {},
   "outputs": [
    {
     "data": {
      "image/png": "[encoded data removed]",
      "text/plain": [
       "<Figure size 432x288 with 1 Axes>"
      ]
     },
     "metadata": {},
     "output_type": "display_data"
    }
   ],
   "source": [
    "plt.title(\"Average highest rank of each song in the billboard\")\n",
    "plt.plot([v for k,v in yearly_average_highest_rank.items()])\n",
    "positions = [i for i in range(0, 61, 10)]\n",
    "labels = [(str)(i + 1960) for i in range(0, 61, 10)]\n",
    "plt.xticks(positions, labels)\n",
    "plt.locator_params(axis='x', nbins=8)"
   ]
  },
  {
   "cell_type": "code",
   "execution_count": 277,
   "metadata": {},
   "outputs": [
    {
     "data": {
      "image/png": "[encoded data removed]",
      "text/plain": [
       "<Figure size 432x288 with 1 Axes>"
      ]
     },
     "metadata": {},
     "output_type": "display_data"
    }
   ],
   "source": [
    "plt.title(\"Number of artists showing in the billboard each year\")\n",
    "plt.plot([len(v) for k,v in yearly_artists_dict.items()])\n",
    "positions = [i for i in range(0, 61, 10)]\n",
    "labels = [(str)(i + 1960) for i in range(0, 61, 10)]\n",
    "plt.xticks(positions, labels)\n",
    "plt.locator_params(axis='x', nbins=8)"
   ]
  },
  {
   "cell_type": "markdown",
   "metadata": {},
   "source": [
    "#### TFIDF?"
   ]
  },
  {
   "cell_type": "code",
   "execution_count": 246,
   "metadata": {},
   "outputs": [],
   "source": [
    "vectorizer = TfidfVectorizer()\n",
    "vectors = vectorizer.fit_transform([' '.join(yearly_words_dict[year]) for year in range(1960, 2021)])\n",
    "feature_names = vectorizer.get_feature_names()\n",
    "dense = vectors.todense()\n",
    "denselist = dense.tolist()\n",
    "df = pd.DataFrame(denselist, columns=feature_names)"
   ]
  },
  {
   "cell_type": "code",
   "execution_count": 247,
   "metadata": {},
   "outputs": [
    {
     "name": "stdout",
     "output_type": "stream",
     "text": [
      "Index(['like', 'love', 'come', 'tell', 'mam', 'one', 'want', 'malachy', 'take',\n",
      "       'make'],\n",
      "      dtype='object')\n",
      "Index(['dirk', 'love', 'like', 'come', 'oh', 'let', 'tell', 'baby', 'one',\n",
      "       'make'],\n",
      "      dtype='object')\n",
      "Index(['mam', 'like', 'tell', 'come', 'malachy', 'love', 'one', 'want', 'make',\n",
      "       'take'],\n",
      "      dtype='object')\n",
      "Index(['like', 'love', 'one', 'come', 'make', 'tony', 'see', 'time', 'labour',\n",
      "       'look'],\n",
      "      dtype='object')\n",
      "Index(['love', 'like', 'oh', 'baby', 'coulson', 'come', 'one', 'yeah', 'see',\n",
      "       'make'],\n",
      "      dtype='object')\n",
      "Index(['love', 'like', 'baby', 'oh', 'come', 'see', 'make', 'one', 'time',\n",
      "       'yeah'],\n",
      "      dtype='object')\n",
      "Index(['love', 'like', 'baby', 'come', 'make', 'oh', 'see', 'yeah', 'time',\n",
      "       'want'],\n",
      "      dtype='object')\n",
      "Index(['love', 'come', 'baby', 'like', 'oh', 'make', 'time', 'see', 'take',\n",
      "       'let'],\n",
      "      dtype='object')\n",
      "Index(['love', 'like', 'come', 'nat', 'baby', 'one', 'make', 'oh', 'see',\n",
      "       'time'],\n",
      "      dtype='object')\n",
      "Index(['love', 'like', 'oh', 'baby', 'lydia', 'make', 'come', 'yeah', 'one',\n",
      "       'butch'],\n",
      "      dtype='object')\n",
      "Index(['mam', 'tell', 'come', 'like', 'love', 'malachy', 'one', 'want', 'make',\n",
      "       'take'],\n",
      "      dtype='object')\n",
      "Index(['love', 'like', 'one', 'make', 'come', 'time', 'see', 'oh', 'take',\n",
      "       'tom'],\n",
      "      dtype='object')\n",
      "Index(['love', 'like', 'oh', 'make', 'baby', 'yeah', 'want', 'man', 'come',\n",
      "       'time'],\n",
      "      dtype='object')\n",
      "Index(['mam', 'tell', 'like', 'malachy', 'come', 'love', 'want', 'clarence',\n",
      "       'make', 'one'],\n",
      "      dtype='object')\n",
      "Index(['eod', 'like', 'love', 'tell', 'come', 'mam', 'one', 'make', 'see',\n",
      "       'take'],\n",
      "      dtype='object')\n",
      "Index(['love', 'like', 'make', 'one', 'come', 'see', 'take', 'butch', 'oh',\n",
      "       'baby'],\n",
      "      dtype='object')\n",
      "Index(['love', 'like', 'nbsp', 'oh', 'come', 'make', 'spotify', 'yeah', 'time',\n",
      "       'baby'],\n",
      "      dtype='object')\n",
      "Index(['love', 'like', 'come', 'oh', 'time', 'yeah', 'make', 'baby', 'youre',\n",
      "       'feel'],\n",
      "      dtype='object')\n",
      "Index(['love', 'like', 'tell', 'mam', 'come', 'want', 'malachy', 'take',\n",
      "       'make', 'oh'],\n",
      "      dtype='object')\n",
      "Index(['love', 'like', 'mam', 'come', 'tell', 'want', 'one', 'take', 'see',\n",
      "       'make'],\n",
      "      dtype='object')\n",
      "Index(['love', 'like', 'time', 'come', 'oh', 'make', 'baby', 'one', 'let',\n",
      "       'yeah'],\n",
      "      dtype='object')\n",
      "Index(['love', 'like', 'make', 'let', 'come', 'oh', 'one', 'time', 'take',\n",
      "       'see'],\n",
      "      dtype='object')\n",
      "Index(['love', 'like', 'oh', 'baby', 'make', 'come', 'want', 'take', 'yeah',\n",
      "       'one'],\n",
      "      dtype='object')\n",
      "Index(['love', 'like', 'oh', 'come', 'time', 'make', 'baby', 'one', 'take',\n",
      "       'youre'],\n",
      "      dtype='object')\n",
      "Index(['love', 'like', 'make', 'oh', 'want', 'time', 'take', 'baby', 'let',\n",
      "       'come'],\n",
      "      dtype='object')\n",
      "Index(['love', 'like', 'oh', 'yeah', 'time', 'want', 'make', 'baby', 'let',\n",
      "       'come'],\n",
      "      dtype='object')\n",
      "Index(['love', 'like', 'one', 'dreiberg', 'laurie', 'come', 'time', 'make',\n",
      "       'take', 'oh'],\n",
      "      dtype='object')\n",
      "Index(['love', 'one', 'like', 'time', 'make', 'come', 'see', 'take', 'oh',\n",
      "       'never'],\n",
      "      dtype='object')\n",
      "Index(['love', 'like', 'baby', 'feel', 'make', 'time', 'want', 'oh', 'come',\n",
      "       'take'],\n",
      "      dtype='object')\n",
      "Index(['love', 'like', 'baby', 'make', 'come', 'let', 'time', 'take', 'never',\n",
      "       'oh'],\n",
      "      dtype='object')\n",
      "Index(['love', 'like', 'make', 'come', 'oh', 'baby', 'yeah', 'time', 'one',\n",
      "       'see'],\n",
      "      dtype='object')\n",
      "Index(['love', 'like', 'baby', 'oh', 'yeah', 'come', 'time', 'let', 'make',\n",
      "       'want'],\n",
      "      dtype='object')\n",
      "Index(['love', 'like', 'tell', 'mam', 'come', 'make', 'want', 'see', 'one',\n",
      "       'malachy'],\n",
      "      dtype='object')\n",
      "Index(['like', 'love', 'come', 'mam', 'tell', 'one', 'see', 'make', 'want',\n",
      "       'take'],\n",
      "      dtype='object')\n",
      "Index(['luttrell', 'like', 'love', 'one', 'see', 'come', 'make', 'oa', 'time',\n",
      "       'want'],\n",
      "      dtype='object')\n",
      "Index(['like', 'golightly', 'love', 'varjak', 'come', 'let', 'see', 'make',\n",
      "       'time', 'baby'],\n",
      "      dtype='object')\n",
      "Index(['like', 'come', 'tell', 'mam', 'love', 'golightly', 'varjak', 'see',\n",
      "       'one', 'make'],\n",
      "      dtype='object')\n",
      "Index(['like', 'love', 'make', 'come', 'see', 'one', 'time', 'never', 'baby',\n",
      "       'youre'],\n",
      "      dtype='object')\n",
      "Index(['love', 'like', 'make', 'yeah', 'come', 'let', 'see', 'cause', 'one',\n",
      "       'time'],\n",
      "      dtype='object')\n",
      "Index(['like', 'love', 'oh', 'yeah', 'make', 'come', 'youre', 'wanna', 'baby',\n",
      "       'let'],\n",
      "      dtype='object')\n",
      "Index(['like', 'love', 'yeah', 'make', 'baby', 'wanna', 'cause', 'see', 'come',\n",
      "       'think'],\n",
      "      dtype='object')\n",
      "Index(['like', 'love', 'yeah', 'come', 'make', 'take', 'cause', 'time', 'baby',\n",
      "       'aint'],\n",
      "      dtype='object')\n",
      "Index(['like', 'love', 'make', 'see', 'time', 'cause', 'baby', 'let', 'want',\n",
      "       'wanna'],\n",
      "      dtype='object')\n",
      "Index(['like', 'love', 'thoia', 'yeah', 'come', 'see', 'baby', 'aint', 'make',\n",
      "       'oh'],\n",
      "      dtype='object')\n",
      "Index(['like', 'love', 'yeah', 'come', 'want', 'make', 'one', 'let', 'oh',\n",
      "       'take'],\n",
      "      dtype='object')\n",
      "Index(['like', 'love', 'yeah', 'make', 'let', 'come', 'want', 'cause', 'see',\n",
      "       'baby'],\n",
      "      dtype='object')\n",
      "Index(['like', 'love', 'let', 'see', 'make', 'oh', 'come', 'yeah', 'baby',\n",
      "       'time'],\n",
      "      dtype='object')\n",
      "Index(['like', 'love', 'oh', 'make', 'yeah', 'let', 'come', 'see', 'time',\n",
      "       'cause'],\n",
      "      dtype='object')\n",
      "Index(['like', 'love', 'oh', 'yeah', 'make', 'see', 'cause', 'take', 'let',\n",
      "       'want'],\n",
      "      dtype='object')\n",
      "Index(['like', 'love', 'oh', 'yeah', 'cause', 'make', 'youre', 'see', 'want',\n",
      "       'one'],\n",
      "      dtype='object')\n",
      "Index(['like', 'love', 'oh', 'let', 'yeah', 'baby', 'make', 'come', 'cause',\n",
      "       'see'],\n",
      "      dtype='object')\n",
      "Index(['like', 'love', 'oh', 'yeah', 'make', 'baby', 'let', 'come', 'cause',\n",
      "       'back'],\n",
      "      dtype='object')\n",
      "Index(['like', 'love', 'yeah', 'oh', 'make', 'baby', 'let', 'come', 'cause',\n",
      "       'see'],\n",
      "      dtype='object')\n",
      "Index(['like', 'love', 'oh', 'yeah', 'make', 'let', 'baby', 'want', 'see',\n",
      "       'cause'],\n",
      "      dtype='object')\n",
      "Index(['like', 'love', 'oh', 'yeah', 'make', 'baby', 'aint', 'cause', 'let',\n",
      "       'take'],\n",
      "      dtype='object')\n",
      "Index(['like', 'love', 'oh', 'yeah', 'baby', 'aint', 'make', 'let', 'want',\n",
      "       'tell'],\n",
      "      dtype='object')\n",
      "Index(['like', 'love', 'yeah', 'oh', 'aint', 'baby', 'make', 'cause', 'let',\n",
      "       'feel'],\n",
      "      dtype='object')\n",
      "Index(['like', 'yeah', 'love', 'make', 'want', 'aint', 'baby', 'wanna', 'oh',\n",
      "       'come'],\n",
      "      dtype='object')\n",
      "Index(['like', 'yeah', 'aint', 'love', 'make', 'bitch', 'take', 'fuck', 'let',\n",
      "       'oh'],\n",
      "      dtype='object')\n",
      "Index(['like', 'yeah', 'love', 'make', 'aint', 'bitch', 'fuck', 'want',\n",
      "       'nigga', 'let'],\n",
      "      dtype='object')\n",
      "Index(['yeah', 'like', 'make', 'love', 'tell', 'bitch', 'come', 'cause',\n",
      "       'baby', 'aint'],\n",
      "      dtype='object')\n"
     ]
    }
   ],
   "source": [
    "for index, row in df.iterrows():\n",
    "    df = df.sort_values(by=index, axis=1, ascending=False)\n",
    "    print(df.columns[0:10])"
   ]
  },
  {
   "cell_type": "markdown",
   "metadata": {},
   "source": [
    "### General and interesting findings"
   ]
  },
  {
   "cell_type": "code",
   "execution_count": 351,
   "metadata": {},
   "outputs": [],
   "source": [
    "## In general:\n",
    "#### 1) Artist owns the most songs that appears in billboard?\n",
    "#### 2) Artist appears most in billboard (by cnt)?\n",
    "#### 3) How many songs will be in the 52 weekly hot100 list per year? - around 400 - 800\n",
    "#### 4) Songs that appear in the hot100 list most.\n",
    "#### 5) Artist whose song always achieved a high rank on the list.\n",
    "#### 6) Song appears/gaps in most years\n",
    "\n",
    "## Interesting things:\n",
    "#### 1) Songs/Artists that appear again in the hotlist after a long period. \n",
    "#### 2) Songs become hot way later than its release date.\n",
    "#### 3) Songs are popular until nowadays"
   ]
  },
  {
   "cell_type": "markdown",
   "metadata": {},
   "source": [
    "#### 1) Artist owns the most songs that appears in billboard?"
   ]
  },
  {
   "cell_type": "code",
   "execution_count": 311,
   "metadata": {},
   "outputs": [
    {
     "name": "stdout",
     "output_type": "stream",
     "text": [
      "[('Drake', 172), ('Eminem', 111), ('Elvis Presley', 96), ('Kanye West', 85), ('Taylor Swift', 81)]\n"
     ]
    }
   ],
   "source": [
    "artist_songs_count = {a:len(b) for a,b in artist_songs_dict.items()}\n",
    "sorted_artists = sorted(artist_songs_count.items(), key=lambda x: x[1], reverse=True)\n",
    "print(sorted_artists[:5])"
   ]
  },
  {
   "cell_type": "markdown",
   "metadata": {},
   "source": [
    "#### 2) Artist appears most in billboard (by cnt)?"
   ]
  },
  {
   "cell_type": "code",
   "execution_count": 312,
   "metadata": {},
   "outputs": [
    {
     "name": "stdout",
     "output_type": "stream",
     "text": [
      "[('Drake', 2450), ('Eminem', 1827), ('Kanye West', 1518), ('The Weeknd', 1265), ('JAY-Z', 1225)]\n"
     ]
    }
   ],
   "source": [
    "sorted_artists_occ = sorted(artist_occ_dict.items(), key=lambda x: x[1], reverse=True)\n",
    "print(sorted_artists_occ[:5])"
   ]
  },
  {
   "cell_type": "markdown",
   "metadata": {},
   "source": [
    "#### 4) Songs that appear in the hot100 list most."
   ]
  },
  {
   "cell_type": "code",
   "execution_count": 404,
   "metadata": {},
   "outputs": [
    {
     "name": "stdout",
     "output_type": "stream",
     "text": [
      "[('Stay by Zedd & Alessia Cara', 206), ('Angel by The Weeknd', 205), ('Heaven by JAY-Z', 194), ('Hold On by Chord Overstreet', 189), ('I Like It by Cardi B, Bad Bunny & J Balvin', 188)]\n"
     ]
    }
   ],
   "source": [
    "songs_count = {}\n",
    "for k,v in songs_years_ranks.items():\n",
    "    songs_count[k] = sum([len(ranks) for y,ranks in v.items()])\n",
    "sorted_songs_count = sorted(songs_count.items(), key=lambda x: x[1], reverse=True)\n",
    "print(sorted_songs_count[:5])"
   ]
  },
  {
   "cell_type": "markdown",
   "metadata": {},
   "source": [
    "#### 5) Artist whose song always achieved a high rank on the list."
   ]
  },
  {
   "cell_type": "code",
   "execution_count": 390,
   "metadata": {},
   "outputs": [
    {
     "name": "stdout",
     "output_type": "stream",
     "text": [
      "[('Brenda Lee', 2.0), ('Roddy Ricch', 2.272727272727273), ('Lewis Capaldi', 5.181818181818182), ('John Fred & His Playboy Band', 5.866666666666666), ('Dan + Shay & Justin Bieber', 6.818181818181818)]\n"
     ]
    }
   ],
   "source": [
    "artist_average_rank = {}\n",
    "for artist, songs in artist_songs_dict.items():\n",
    "    for song in songs:\n",
    "        ranks = []\n",
    "        minRank = 101\n",
    "        for year, ranks in songs_years_ranks[song + \" by \" + artist].items():\n",
    "            minRank = min(minRank, min(ranks))\n",
    "        ranks.append(minRank)\n",
    "    artist_average_rank[artist] = sum(ranks)/len(ranks)\n",
    "sorted_songs_count = sorted(artist_average_rank.items(), key=lambda x: x[1])\n",
    "print(sorted_songs_count[:5])"
   ]
  },
  {
   "cell_type": "markdown",
   "metadata": {},
   "source": [
    "#### 6) Song appears/gaps in most years"
   ]
  },
  {
   "cell_type": "code",
   "execution_count": 412,
   "metadata": {},
   "outputs": [
    {
     "name": "stdout",
     "output_type": "stream",
     "text": [
      "Songs that shows in the billboard in most years\n",
      "[('You by Ed Sheeran', 16), ('Angel by The Weeknd', 15), ('Hold On by Chord Overstreet', 14), ('Stay by Zedd & Alessia Cara', 13), ('Crazy by Gnarls Barkley', 13)]\n"
     ]
    }
   ],
   "source": [
    "songs_appears = {a:len(b) for a,b in songs_years_ranks.items()}\n",
    "sorted_songs_appears = sorted(songs_appears.items(), key=lambda x: x[1], reverse=True)\n",
    "print(\"Songs that shows in the billboard in most years\")\n",
    "print(sorted_songs_appears[:5])"
   ]
  },
  {
   "cell_type": "code",
   "execution_count": 415,
   "metadata": {},
   "outputs": [
    {
     "name": "stdout",
     "output_type": "stream",
     "text": [
      "Songs that covers most years\n",
      "[(\"Rockin' Around The Christmas Tree by Brenda Lee\", 60), ('White Christmas by Bing Crosby', 60), ('Jingle Bell Rock by Bobby Helms', 60), ('The Christmas Song (Merry Christmas To You) by Stevie Wonder', 60), ('Blue Christmas by Elvis Presley', 60)]\n"
     ]
    }
   ],
   "source": [
    "songs_years = {a:sorted(b)[len(b) - 1] - sorted(b)[0] for a,b in songs_years_ranks.items()}\n",
    "sorted_songs_years = sorted(songs_years.items(), key=lambda x: x[1], reverse=True)\n",
    "print(\"Songs that covers most years\")\n",
    "print(sorted_songs_years[:5])"
   ]
  },
  {
   "cell_type": "code",
   "execution_count": 414,
   "metadata": {},
   "outputs": [
    {
     "data": {
      "text/plain": [
       "defaultdict(list,\n",
       "            {1960: [80, 100],\n",
       "             1962: [65, 67, 75],\n",
       "             2014: [45],\n",
       "             2016: [38],\n",
       "             2017: [38, 42, 47],\n",
       "             2018: [17, 24, 29, 39, 42, 37],\n",
       "             2019: [30, 32, 33, 11],\n",
       "             2020: [16]})"
      ]
     },
     "execution_count": 414,
     "metadata": {},
     "output_type": "execute_result"
    }
   ],
   "source": [
    "songs_years_ranks['The Christmas Song (Merry Christmas To You) by Stevie Wonder']"
   ]
  },
  {
   "cell_type": "code",
   "execution_count": null,
   "metadata": {},
   "outputs": [],
   "source": []
  },
  {
   "cell_type": "markdown",
   "metadata": {},
   "source": [
    "# For the spotify feature dataset"
   ]
  },
  {
   "cell_type": "markdown",
   "metadata": {},
   "source": [
    "## In general:\n",
    "#### 1) \n",
    "\n",
    "## Changes through years:\n",
    "#### 1) Duration?\n",
    "#### 2) How about the released month of top 5 songs each year?\n",
    "\n",
    "## Interesting things:\n",
    "#### 1) "
   ]
  },
  {
   "cell_type": "code",
   "execution_count": null,
   "metadata": {},
   "outputs": [],
   "source": []
  }
 ],
 "metadata": {
  "kernelspec": {
   "display_name": "Python 3",
   "language": "python",
   "name": "python3"
  },
  "language_info": {
   "codemirror_mode": {
    "name": "ipython",
    "version": 3
   },
   "file_extension": ".py",
   "mimetype": "text/x-python",
   "name": "python",
   "nbconvert_exporter": "python",
   "pygments_lexer": "ipython3",
   "version": "3.6.5"
  }
 },
 "nbformat": 4,
 "nbformat_minor": 2
}
