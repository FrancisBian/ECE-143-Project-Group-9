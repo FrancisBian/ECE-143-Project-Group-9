{
 "cells": [
  {
   "cell_type": "markdown",
   "metadata": {},
   "source": [
    "# See README first"
   ]
  },
  {
   "cell_type": "code",
   "execution_count": 108,
   "metadata": {},
   "outputs": [
    {
     "name": "stdout",
     "output_type": "stream",
     "text": [
      "[nltk_data] Downloading package wordnet to\n",
      "[nltk_data]     /Users/francisbian/nltk_data...\n",
      "[nltk_data]   Package wordnet is already up-to-date!\n"
     ]
    }
   ],
   "source": [
    "import sys\n",
    "import csv\n",
    "from langdetect import detect\n",
    "import nltk\n",
    "from nltk.corpus import stopwords\n",
    "import string\n",
    "from collections import defaultdict\n",
    "import matplotlib.pyplot as plt\n",
    "import numpy as np\n",
    "import pandas as pd\n",
    "import nltk\n",
    "nltk.download('wordnet')\n",
    "from nltk.stem.wordnet import WordNetLemmatizer\n",
    "from sklearn.feature_extraction.text import TfidfVectorizer\n",
    "lem = WordNetLemmatizer()\n",
    "from  plotly.offline import plot\n",
    "import plotly.graph_objs as go"
   ]
  },
  {
   "cell_type": "code",
   "execution_count": 6,
   "metadata": {},
   "outputs": [
    {
     "name": "stdout",
     "output_type": "stream",
     "text": [
      "!\"#$%&'()*+,-./:;<=>?@[\\]^_`{|}~\n",
      "{\"couldn't\", 'ours', 'ass', 'were', \"you're\", 'other', 'm', 'my', 'having', 'when', 'piss', 'tosser', \"wasn't\", 'himself', 'y', 'butt', 'felching', 'what', 'anus', 'wasn', 'out', 'get', 'biatch', 'Goddamn', 'fag', 'is', 'then', 'shouldn', 'boob', 'itself', 'jizz', 'didn', 'hasn', 'at', 'her', 'doing', 'hers', \"should've\", 'haven', 'your', 'most', 'mustn', \"needn't\", \"won't\", 'slut', \"wouldn't\", 'this', 'just', 'whore', 'here', 'feck', 's hit', \"you've\", 'to', 'in', 'ma', 'bitch', 'crap', 'are', \"doesn't\", 'knobend', 'vagina', 're', 'be', \"shouldn't\", 'go', 'theirs', 'anal', 'cock', 'nigga', \"isn't\", 'omg', 'been', 'know', 'above', 'can', 'some', 'so', 'which', 'further', 'after', 'these', 'off', 'blow job', 'arse', 'as', \"hasn't\", 'am', 'themselves', \"mustn't\", \"hadn't\", 'between', 'any', 'weren', 'our', 'bollok', 'f u c k', \"you'd\", 'ain', 'through', 'buttplug', 'jerk', 'i', 'couldn', 'him', 'down', 'prick', 'who', 'being', 'until', 'have', 'dont', 'own', \"you'll\", 'hell', 'me', 'more', 'scrotum', 'while', 'fuck', 'yourselves', 'cunt', 'all', 'than', 'there', 'fellate', 'that', 'or', 's', 'fudgepacker', 'll', 'ourselves', \"it's\", 'will', 'each', 'the', 'needn', 'boner', 'why', 'should', 'against', 'you', 'how', 'very', 'from', 'where', 'im', 'does', 'because', \"haven't\", 'about', 'nor', 'shan', 'of', 'aren', 'labia', 'wank', 'below', 'balls', 'over', 'has', 'but', 'we', 'such', 'he', \"she's\", 'again', 'only', 'd', 'bloody', 'doesn', 'she', 'no', 've', 'same', \"didn't\", 'yours', 'hadn', 'dick', 'damn', 'twat', 'pube', 'sh1t', 'turd', 'now', 'bum', 'poop', 'up', 'fellatio', 'flange', 'coon', 'was', \"don't\", 'for', 'their', 'those', 'during', 'it', 'mightn', 'bastard', 'by', 'clitoris', 'nigger', 'his', 'herself', 'wouldn', 'lmao', 'an', \"aren't\", 'knob end', 'both', 'pussy', 'isn', 'won', 'spunk', 'a', 'myself', 'queer', 'bugger', 'before', 'had', 'muff', \"mightn't\", \"that'll\", 'did', 'blowjob', 'dildo', 'with', 'them', 'if', 't', 'and', 'bollock', 'sex', 'too', 'under', \"shan't\", 'lmfao', 'do', 'whom', 'they', 'on', 'ballsack', 'o', 'say', 'fudge packer', 'dyke', 'wtf', 'shit', 'smegma', 'penis', 'once', 'not', 'few', 'God damn', 'into', 'homo', 'tit', 'yourself', 'its', 'don', \"weren't\"}\n"
     ]
    }
   ],
   "source": [
    "csv.field_size_limit(sys.maxsize)\n",
    "print(string.punctuation)\n",
    "stop_words = set(stopwords.words('english'))\n",
    "additional_word = set(['im', 'get', 'say', 'go', 'dont', 'know'])\n",
    "with open('../banned_words_list.txt', 'r') as f:\n",
    "    banned_word = [line.strip() for line in f]\n",
    "stop_words = stop_words.union(additional_word).union(banned_word)\n",
    "\n",
    "print(stop_words)"
   ]
  },
  {
   "cell_type": "markdown",
   "metadata": {},
   "source": [
    "# For the hot100 dataset\n",
    "## In general:\n",
    "#### 1) Artist owns the most songs that appears in billboard?\n",
    "#### 2) Artist appears most in billboard (by cnt)?\n",
    "#### 3) How many songs will be in the 52 weekly hot100 list per year? - around 400 - 800\n",
    "#### 4) Songs that appear in the hot100 list most.\n",
    "#### 5) Artist whose song always achieved a high rank on the list.\n",
    "#### 6) Song appears/gaps in most years\n",
    "\n",
    "\n",
    "## Changes through years:\n",
    "#### 1) commonly used words of lyrics - How they differed and how aligned?\n",
    "#### 2) What is the average (highest) rank of songs?\n",
    "#### 3) How many artists show up in the billboard ever year?\n",
    "#### 4) Does the average number of occurrence of the hot100 songs increase/decrease each year?\n",
    "#### 5) How about the length of lyrics?\n",
    "\n",
    "## Interesting things:\n",
    "#### 1) Songs/Artists that appear again in the hotlist after a long period. \n",
    "#### 2) Songs become hot way later than its release date.\n",
    "#### 3) Songs are popular until nowadays"
   ]
  },
  {
   "cell_type": "code",
   "execution_count": 9,
   "metadata": {},
   "outputs": [],
   "source": [
    "# For test the unit functions\n",
    "df = pd.read_csv('../data/combined_dataset/lyrics&features_{}.csv'.format(1960))"
   ]
  },
  {
   "cell_type": "code",
   "execution_count": 10,
   "metadata": {},
   "outputs": [],
   "source": [
    "# Extract the bag of words for an entire year. Then we could do TF-IDF or text-based analysis.\n",
    "def get_yearly_word_list(df):\n",
    "    yearly_word_list = []\n",
    "    for i in range(len(df)):\n",
    "        li = df.loc[i,'words'].replace('\\'', '')\n",
    "        li = li.strip('][').split(', ') \n",
    "        if len(li) != 0:\n",
    "            yearly_word_list += [w for w in li if w not in stop_words]\n",
    "    return yearly_word_list"
   ]
  },
  {
   "cell_type": "code",
   "execution_count": 146,
   "metadata": {},
   "outputs": [],
   "source": [
    "# Get average length of the lyrics from this year\n",
    "# Exclude the top 3 longest and 3 shortest\n",
    "def get_yearly_length(df, exclude=3):\n",
    "    sorted_valid_length = sorted([df.loc[i, 'lyrics_length'] for i in range(len(df)) if df.loc[i, 'lyrics_length'] != 0])\n",
    "    sorted_valid_length = sorted_valid_length[exclude: len(sorted_valid_length) - exclude]\n",
    "    return sorted_valid_length"
   ]
  },
  {
   "cell_type": "code",
   "execution_count": 149,
   "metadata": {},
   "outputs": [],
   "source": [
    "def get_yearly_duration(df,exclude=2):\n",
    "    sorted_valid_du = sorted([df.loc[i, 'duration_seconds'] for i in range(len(df)) if not pd.isna(df.loc[i, 'duration_seconds'])])\n",
    "    sorted_valid_du = sorted_valid_du[exclude: len(sorted_valid_du) - exclude]\n",
    "    return sorted_valid_du"
   ]
  },
  {
   "cell_type": "code",
   "execution_count": 133,
   "metadata": {},
   "outputs": [],
   "source": [
    "# Get average occurrence of songs in this year's billboard \n",
    "def get_average_occ(df):\n",
    "    return sum([df.loc[i, 'cnt'] for i in range(len(df))])/len(df)"
   ]
  },
  {
   "cell_type": "code",
   "execution_count": 134,
   "metadata": {},
   "outputs": [],
   "source": [
    "# Get average highest rank\n",
    "def get_average_highest_rank(df):\n",
    "    rank_list = []\n",
    "    for i in range(len(df)):\n",
    "        rk = df.loc[i,'rank'].replace('\\'', '')\n",
    "        rk = rk.strip('][').split(', ') \n",
    "        rk = [int(i) for i in rk] \n",
    "        if len(rk) != 0:\n",
    "            rank_list.append(min(rk))\n",
    "    return sum(rank_list)/len(rank_list)"
   ]
  },
  {
   "cell_type": "code",
   "execution_count": 135,
   "metadata": {},
   "outputs": [],
   "source": [
    "# Get the artists of this year\n",
    "def get_yearly_artists(df):\n",
    "    artists = set()\n",
    "    for i in range(len(df)):\n",
    "        artists.add(df.loc[i,'artists'])\n",
    "    return artists"
   ]
  },
  {
   "cell_type": "code",
   "execution_count": 136,
   "metadata": {},
   "outputs": [],
   "source": [
    "def update_songs(df, year, songs_years_ranks):\n",
    "    for i in range(len(df)):\n",
    "        title = df.loc[i, 'title']\n",
    "        key = title + \" by \" + df.loc[i, 'artists']\n",
    "        rk = df.loc[i,'rank'].replace('\\'', '')\n",
    "        rk = rk.strip('][').split(', ') \n",
    "        rk = [int(i) for i in rk]\n",
    "        if len(rk) == 0:\n",
    "            continue\n",
    "        \n",
    "        if key not in songs_years_ranks:\n",
    "            songs_years_ranks[key] = defaultdict(list)\n",
    "            songs_years_ranks[key][year] = rk\n",
    "        else:\n",
    "            songs_years_ranks[key][year] = rk"
   ]
  },
  {
   "cell_type": "code",
   "execution_count": 137,
   "metadata": {},
   "outputs": [],
   "source": [
    "# Get the released month of the hottest 5 songs\n",
    "# def get_released_month(df):\n",
    "    "
   ]
  },
  {
   "cell_type": "markdown",
   "metadata": {},
   "source": [
    "## Perform on all the dataset"
   ]
  },
  {
   "cell_type": "code",
   "execution_count": 138,
   "metadata": {},
   "outputs": [],
   "source": [
    "# key: year, val: Bags of word in this year\n",
    "yearly_words_dict = {}\n",
    "# key: year, val: list of length of lyrics in this year\n",
    "yearly_length_dict = defaultdict(list)\n",
    "# key: year, val: list of duration in this year\n",
    "yearly_duration_dict = defaultdict(list)\n",
    "# key: year, val: average occurrence in this year's billboard for songs\n",
    "yearly_average_occ = {}\n",
    "# key: year, val: artists that are in the billboard in this year\n",
    "yearly_artists_dict = {}\n",
    "# key: song_title, val:{key: year, val: ranks of this song is this year}\n",
    "songs_years_ranks = {}\n",
    "# key: year, val: average rank of each song is this year\n",
    "yearly_average_highest_rank = {}\n",
    "# key: artist, val: songs by this artist that in the billboard hotlist\n",
    "artist_songs_dict = defaultdict(set)\n",
    "# key: artist, val: number of occurrence in billboard\n",
    "artist_occ_dict = defaultdict(int)\n",
    "\n",
    "artist_set = set()\n",
    "song_set = set()"
   ]
  },
  {
   "cell_type": "code",
   "execution_count": 150,
   "metadata": {},
   "outputs": [],
   "source": [
    "for year in range(1960, 2021):\n",
    "    df = pd.read_csv('../data/combined_dataset/lyrics&features_{}.csv'.format(year))\n",
    "    for i in range(len(df)):\n",
    "        # artist_set.add(df.loc[i, 'artist_name'])\n",
    "        artist_set.add(df.loc[i, 'artists'])\n",
    "        song_set.add(df.loc[i, 'title'])\n",
    "        \n",
    "        artist_songs_dict[df.loc[i, 'artists']].add(df.loc[i, 'title'])\n",
    "        artist_occ_dict[df.loc[i, 'artists']] += (int)(df.loc[i, 'cnt'])\n",
    "        \n",
    "    yearly_length_dict[year] = get_yearly_length(df)\n",
    "    yearly_duration_dict[year] = get_yearly_duration(df)\n",
    "    yearly_artists_dict[year] = get_yearly_artists(df)\n",
    "    yearly_words_dict[year] = get_yearly_word_list(df)\n",
    "    yearly_average_occ[year] = get_average_occ(df)\n",
    "    update_songs(df, year, songs_years_ranks)\n",
    "    yearly_average_highest_rank[year] = get_average_highest_rank(df)\n",
    "    #yearly_released_month[year] = get_released_month(df)\n",
    "    "
   ]
  },
  {
   "cell_type": "markdown",
   "metadata": {},
   "source": [
    "## Some changes (length, rank, occurrence) according to the years"
   ]
  },
  {
   "cell_type": "markdown",
   "metadata": {},
   "source": [
    "### Average lyric length"
   ]
  },
  {
   "cell_type": "code",
   "execution_count": 32,
   "metadata": {},
   "outputs": [
    {
     "data": {
      "image/png": "[encoded data removed]",
      "text/plain": [
       "<Figure size 432x288 with 1 Axes>"
      ]
     },
     "metadata": {},
     "output_type": "display_data"
    }
   ],
   "source": [
    "plt.title(\"Average length\")\n",
    "plt.plot([sum(v)/len(v) for k,v in yearly_length_dict.items()])\n",
    "positions = [i for i in range(0, 61, 10)]\n",
    "labels = [(str)(i + 1960) for i in range(0, 61, 10)]\n",
    "plt.xticks(positions, labels)\n",
    "plt.locator_params(axis='x', nbins=8)"
   ]
  },
  {
   "cell_type": "code",
   "execution_count": 156,
   "metadata": {},
   "outputs": [
    {
     "data": {
      "text/plain": [
       "'temp-plot.html'"
      ]
     },
     "execution_count": 156,
     "metadata": {},
     "output_type": "execute_result"
    }
   ],
   "source": [
    "trace0 = go.Scatter(\n",
    "    x=[k for k,v in yearly_length_dict.items() if k != 2020],\n",
    "    y=[200 for k,v in yearly_length_dict.items() if k != 2020],\n",
    "    name='200 Words',\n",
    "    line=dict(\n",
    "        color = 'rgb(245, 154,145)',\n",
    "        width = 5\n",
    "    )\n",
    ")\n",
    "\n",
    "trace1 = go.Scatter(\n",
    "    x=[k for k,v in yearly_length_dict.items() if k != 2020],\n",
    "    y=[sum(v)/len(v) for k,v in yearly_length_dict.items() if k != 2020],\n",
    "    \n",
    "    mode='markers',\n",
    "    name='Lyrics Length',\n",
    "    error_y=dict(\n",
    "        type='data',\n",
    "        array = [np.std(v) for k,v in yearly_length_dict.items() if k != 2020],\n",
    "        thickness=2,\n",
    "        width=4,\n",
    "        color='rgb(57, 119, 175)',\n",
    "    ),\n",
    "    marker=dict(\n",
    "        color='rgb(57, 119, 175)',\n",
    "        size=7\n",
    "    )\n",
    ")\n",
    "\n",
    "layout = go.Layout(\n",
    "    title = 'Average Lyric Length in Words',\n",
    "    plot_bgcolor='rgb(255, 255, 255)',\n",
    "    yaxis=dict(\n",
    "        title = \"Lyric length [words]\",\n",
    "        gridcolor='rgb(233, 233, 233)',\n",
    "    ),\n",
    "    xaxis=dict(\n",
    "        title = 'year',\n",
    "        gridcolor='rgb(233, 233, 233)',\n",
    "    )\n",
    ")\n",
    "    \n",
    "data = [trace0, trace1]\n",
    "fig = go.Figure(data=data, layout=layout)\n",
    "plot(fig)"
   ]
  },
  {
   "cell_type": "markdown",
   "metadata": {},
   "source": [
    "### Average duration"
   ]
  },
  {
   "cell_type": "code",
   "execution_count": 157,
   "metadata": {},
   "outputs": [
    {
     "data": {
      "text/plain": [
       "'temp-plot.html'"
      ]
     },
     "execution_count": 157,
     "metadata": {},
     "output_type": "execute_result"
    }
   ],
   "source": [
    "\n",
    "trace0 = go.Scatter(\n",
    "    x=[k for k,v in yearly_duration_dict.items() if k != 2020],\n",
    "    y=[200 for k,v in yearly_duration_dict.items() if k != 2020],\n",
    "    name='200 seconds',\n",
    "    line=dict(\n",
    "        color = 'rgb(245, 154,145)',\n",
    "        width = 5\n",
    "    )\n",
    ")\n",
    "\n",
    "trace1 = go.Scatter(\n",
    "    x=[k for k,v in yearly_duration_dict.items() if k != 2020],\n",
    "    y=[sum(v)/len(v) for k,v in yearly_duration_dict.items() if k != 2020],\n",
    "    \n",
    "    mode='markers',\n",
    "    name='Song Duration',\n",
    "    error_y=dict(\n",
    "        type='data',\n",
    "        array = [np.std(v) for k,v in yearly_duration_dict.items() if k != 2020],\n",
    "        thickness=2,\n",
    "        width=4,\n",
    "        color='rgb(57, 119, 175)',\n",
    "    ),\n",
    "    marker=dict(\n",
    "        color='rgb(57, 119, 175)',\n",
    "        size=7\n",
    "    )\n",
    ")\n",
    "\n",
    "layout = go.Layout(\n",
    "    #title = 'Average Lyric Length',\n",
    "    plot_bgcolor='rgb(255, 255, 255)',\n",
    "    yaxis=dict(\n",
    "        title = \"Song Duration [seconds]\",\n",
    "        gridcolor='rgb(233, 233, 233)',\n",
    "    ),\n",
    "    xaxis=dict(\n",
    "        title = 'year',\n",
    "        gridcolor='rgb(233, 233, 233)',\n",
    "    )\n",
    ")\n",
    "    \n",
    "data = [trace0, trace1]\n",
    "fig = go.Figure(data=data, layout=layout)\n",
    "plot(fig)"
   ]
  },
  {
   "cell_type": "markdown",
   "metadata": {},
   "source": [
    "### Average occurrence of each song in the billboard"
   ]
  },
  {
   "cell_type": "code",
   "execution_count": 21,
   "metadata": {},
   "outputs": [
    {
     "data": {
      "image/png": "[encoded data removed]",
      "text/plain": [
       "<Figure size 432x288 with 1 Axes>"
      ]
     },
     "metadata": {},
     "output_type": "display_data"
    }
   ],
   "source": [
    "plt.title(\"Average occurrence of each song in the billboard\")\n",
    "plt.plot([v for k,v in yearly_average_occ.items()])\n",
    "positions = [i for i in range(0, 61, 10)]\n",
    "labels = [(str)(i + 1960) for i in range(0, 61, 10)]\n",
    "plt.xticks(positions, labels)\n",
    "plt.locator_params(axis='x', nbins=8)"
   ]
  },
  {
   "cell_type": "markdown",
   "metadata": {},
   "source": [
    "### Average highest rank of each song in the billboard"
   ]
  },
  {
   "cell_type": "code",
   "execution_count": 22,
   "metadata": {},
   "outputs": [
    {
     "data": {
      "image/png": "[encoded data removed]",
      "text/plain": [
       "<Figure size 432x288 with 1 Axes>"
      ]
     },
     "metadata": {},
     "output_type": "display_data"
    }
   ],
   "source": [
    "plt.title(\"Average highest rank of each song in the billboard\")\n",
    "plt.plot([v for k,v in yearly_average_highest_rank.items()])\n",
    "positions = [i for i in range(0, 61, 10)]\n",
    "labels = [(str)(i + 1960) for i in range(0, 61, 10)]\n",
    "plt.xticks(positions, labels)\n",
    "plt.locator_params(axis='x', nbins=8)"
   ]
  },
  {
   "cell_type": "markdown",
   "metadata": {},
   "source": [
    "### Number of artists showing in the billboard each year"
   ]
  },
  {
   "cell_type": "code",
   "execution_count": 154,
   "metadata": {},
   "outputs": [
    {
     "data": {
      "image/png": "[encoded data removed]",
      "text/plain": [
       "<Figure size 432x288 with 1 Axes>"
      ]
     },
     "metadata": {},
     "output_type": "display_data"
    }
   ],
   "source": [
    "plt.title(\"Number of artists showing in the billboard each year\")\n",
    "plt.plot([len(v) for k,v in yearly_artists_dict.items()])\n",
    "positions = [i for i in range(0, 61, 10)]\n",
    "labels = [(str)(i + 1960) for i in range(0, 61, 10)]\n",
    "plt.xticks(positions, labels)\n",
    "plt.locator_params(axis='x', nbins=8)"
   ]
  },
  {
   "cell_type": "markdown",
   "metadata": {},
   "source": [
    "#### TFIDF?"
   ]
  },
  {
   "cell_type": "code",
   "execution_count": 24,
   "metadata": {},
   "outputs": [],
   "source": [
    "vectorizer = TfidfVectorizer()\n",
    "vectors = vectorizer.fit_transform([' '.join(yearly_words_dict[year]) for year in range(1960, 2021)])\n",
    "feature_names = vectorizer.get_feature_names()\n",
    "dense = vectors.todense()\n",
    "denselist = dense.tolist()\n",
    "df = pd.DataFrame(denselist, columns=feature_names)"
   ]
  },
  {
   "cell_type": "code",
   "execution_count": 25,
   "metadata": {},
   "outputs": [
    {
     "name": "stdout",
     "output_type": "stream",
     "text": [
      "Index(['love', 'come', 'oh', 'baby', 'little', 'one', 'like', 'let', 'ill',\n",
      "       'youre'],\n",
      "      dtype='object')\n",
      "Index(['love', 'oh', 'baby', 'like', 'come', 'let', 'yeah', 'tell', 'make',\n",
      "       'never'],\n",
      "      dtype='object')\n",
      "Index(['love', 'oh', 'come', 'like', 'baby', 'yeah', 'one', 'let', 'little',\n",
      "       'heart'],\n",
      "      dtype='object')\n",
      "Index(['love', 'oh', 'baby', 'yeah', 'like', 'come', 'make', 'one', 'tell',\n",
      "       'girl'],\n",
      "      dtype='object')\n",
      "Index(['love', 'oh', 'baby', 'yeah', 'come', 'like', 'tell', 'youre', 'one',\n",
      "       'ill'],\n",
      "      dtype='object')\n",
      "Index(['love', 'baby', 'oh', 'come', 'time', 'yeah', 'one', 'like', 'make',\n",
      "       'youre'],\n",
      "      dtype='object')\n",
      "Index(['love', 'baby', 'come', 'make', 'yeah', 'oh', 'time', 'youre', 'see',\n",
      "       'like'],\n",
      "      dtype='object')\n",
      "Index(['love', 'baby', 'oh', 'come', 'like', 'make', 'time', 'see', 'youre',\n",
      "       'yeah'],\n",
      "      dtype='object')\n",
      "Index(['love', 'baby', 'oh', 'come', 'like', 'yeah', 'take', 'time', 'make',\n",
      "       'let'],\n",
      "      dtype='object')\n",
      "Index(['love', 'oh', 'baby', 'yeah', 'make', 'come', 'let', 'like', 'time',\n",
      "       'la'],\n",
      "      dtype='object')\n",
      "Index(['love', 'oh', 'baby', 'come', 'time', 'make', 'yeah', 'like', 'take',\n",
      "       'let'],\n",
      "      dtype='object')\n",
      "Index(['love', 'baby', 'oh', 'come', 'like', 'time', 'make', 'yeah', 'youre',\n",
      "       'see'],\n",
      "      dtype='object')\n",
      "Index(['love', 'oh', 'baby', 'make', 'like', 'let', 'time', 'yeah', 'come',\n",
      "       'youre'],\n",
      "      dtype='object')\n",
      "Index(['love', 'oh', 'baby', 'come', 'make', 'yeah', 'like', 'let', 'time',\n",
      "       'youre'],\n",
      "      dtype='object')\n",
      "Index(['love', 'oh', 'baby', 'like', 'come', 'make', 'yeah', 'youre', 'see',\n",
      "       'let'],\n",
      "      dtype='object')\n",
      "Index(['love', 'baby', 'oh', 'like', 'youre', 'make', 'come', 'yeah', 'time',\n",
      "       'take'],\n",
      "      dtype='object')\n",
      "Index(['love', 'oh', 'baby', 'come', 'like', 'make', 'take', 'youre', 'yeah',\n",
      "       'time'],\n",
      "      dtype='object')\n",
      "Index(['love', 'baby', 'oh', 'come', 'like', 'youre', 'time', 'feel', 'yeah',\n",
      "       'make'],\n",
      "      dtype='object')\n",
      "Index(['love', 'oh', 'like', 'come', 'youre', 'feel', 'baby', 'time', 'make',\n",
      "       'let'],\n",
      "      dtype='object')\n",
      "Index(['love', 'baby', 'oh', 'like', 'make', 'youre', 'come', 'want', 'time',\n",
      "       'feel'],\n",
      "      dtype='object')\n",
      "Index(['love', 'like', 'let', 'oh', 'time', 'baby', 'make', 'want', 'youre',\n",
      "       'cant'],\n",
      "      dtype='object')\n",
      "Index(['love', 'come', 'make', 'oh', 'let', 'like', 'want', 'time', 'youre',\n",
      "       'one'],\n",
      "      dtype='object')\n",
      "Index(['love', 'like', 'oh', 'baby', 'come', 'youre', 'make', 'one', 'want',\n",
      "       'let'],\n",
      "      dtype='object')\n",
      "Index(['love', 'oh', 'time', 'youre', 'make', 'like', 'come', 'take', 'one',\n",
      "       'want'],\n",
      "      dtype='object')\n",
      "Index(['love', 'oh', 'time', 'make', 'youre', 'baby', 'like', 'want', 'come',\n",
      "       'feel'],\n",
      "      dtype='object')\n",
      "Index(['love', 'oh', 'time', 'baby', 'youre', 'like', 'make', 'want', 'come',\n",
      "       'let'],\n",
      "      dtype='object')\n",
      "Index(['love', 'oh', 'like', 'yeah', 'baby', 'time', 'make', 'one', 'want',\n",
      "       'come'],\n",
      "      dtype='object')\n",
      "Index(['love', 'oh', 'baby', 'time', 'like', 'want', 'come', 'make', 'let',\n",
      "       'youre'],\n",
      "      dtype='object')\n",
      "Index(['love', 'baby', 'oh', 'like', 'feel', 'make', 'want', 'time', 'come',\n",
      "       'never'],\n",
      "      dtype='object')\n",
      "Index(['love', 'oh', 'baby', 'like', 'make', 'come', 'want', 'one', 'take',\n",
      "       'youre'],\n",
      "      dtype='object')\n",
      "Index(['love', 'baby', 'oh', 'like', 'make', 'time', 'youre', 'come', 'feel',\n",
      "       'yeah'],\n",
      "      dtype='object')\n",
      "Index(['love', 'baby', 'like', 'come', 'oh', 'make', 'youre', 'feel', 'time',\n",
      "       'let'],\n",
      "      dtype='object')\n",
      "Index(['love', 'baby', 'like', 'time', 'yeah', 'let', 'make', 'want', 'come',\n",
      "       'feel'],\n",
      "      dtype='object')\n",
      "Index(['love', 'like', 'baby', 'come', 'make', 'yeah', 'want', 'cause', 'let',\n",
      "       'one'],\n",
      "      dtype='object')\n",
      "Index(['love', 'like', 'want', 'baby', 'come', 'make', 'cause', 'oh', 'time',\n",
      "       'let'],\n",
      "      dtype='object')\n",
      "Index(['love', 'like', 'come', 'baby', 'oh', 'let', 'cause', 'want', 'time',\n",
      "       'make'],\n",
      "      dtype='object')\n",
      "Index(['love', 'like', 'baby', 'make', 'come', 'want', 'one', 'see', 'yeah',\n",
      "       'time'],\n",
      "      dtype='object')\n",
      "Index(['love', 'like', 'baby', 'make', 'want', 'youre', 'come', 'oh', 'one',\n",
      "       'never'],\n",
      "      dtype='object')\n",
      "Index(['love', 'like', 'baby', 'make', 'want', 'see', 'youre', 'come', 'yeah',\n",
      "       'let'],\n",
      "      dtype='object')\n",
      "Index(['love', 'like', 'make', 'baby', 'come', 'want', 'oh', 'let', 'yeah',\n",
      "       'feel'],\n",
      "      dtype='object')\n",
      "Index(['love', 'like', 'baby', 'make', 'youre', 'yeah', 'come', 'let', 'see',\n",
      "       'think'],\n",
      "      dtype='object')\n",
      "Index(['love', 'like', 'baby', 'youre', 'come', 'cause', 'see', 'make', 'time',\n",
      "       'think'],\n",
      "      dtype='object')\n",
      "Index(['love', 'like', 'baby', 'make', 'see', 'one', 'come', 'time', 'let',\n",
      "       'cause'],\n",
      "      dtype='object')\n",
      "Index(['like', 'love', 'thoia', 'make', 'see', 'let', 'baby', 'come', 'na',\n",
      "       'cant'],\n",
      "      dtype='object')\n",
      "Index(['like', 'love', 'yeah', 'come', 'let', 'make', 'baby', 'see', 'one',\n",
      "       'take'],\n",
      "      dtype='object')\n",
      "Index(['like', 'love', 'make', 'baby', 'let', 'cause', 'see', 'oh', 'yeah',\n",
      "       'take'],\n",
      "      dtype='object')\n",
      "Index(['like', 'love', 'let', 'come', 'make', 'see', 'baby', 'one', 'want',\n",
      "       'cause'],\n",
      "      dtype='object')\n",
      "Index(['like', 'love', 'oh', 'make', 'let', 'see', 'come', 'cause', 'youre',\n",
      "       'yeah'],\n",
      "      dtype='object')\n",
      "Index(['like', 'oh', 'love', 'see', 'make', 'yeah', 'cause', 'youre', 'let',\n",
      "       'baby'],\n",
      "      dtype='object')\n",
      "Index(['like', 'love', 'oh', 'cause', 'make', 'girl', 'want', 'let', 'see',\n",
      "       'youre'],\n",
      "      dtype='object')\n",
      "Index(['like', 'love', 'oh', 'baby', 'yeah', 'let', 'make', 'come', 'girl',\n",
      "       'want'],\n",
      "      dtype='object')\n",
      "Index(['like', 'oh', 'love', 'yeah', 'make', 'let', 'baby', 'come', 'girl',\n",
      "       'cause'],\n",
      "      dtype='object')\n",
      "Index(['like', 'love', 'yeah', 'make', 'baby', 'let', 'oh', 'come', 'cause',\n",
      "       'girl'],\n",
      "      dtype='object')\n",
      "Index(['like', 'love', 'oh', 'yeah', 'make', 'let', 'baby', 'youre', 'want',\n",
      "       'come'],\n",
      "      dtype='object')\n",
      "Index(['like', 'oh', 'love', 'make', 'baby', 'yeah', 'cause', 'let', 'youre',\n",
      "       'take'],\n",
      "      dtype='object')\n",
      "Index(['like', 'love', 'oh', 'baby', 'yeah', 'aint', 'make', 'let', 'want',\n",
      "       'take'],\n",
      "      dtype='object')\n",
      "Index(['like', 'love', 'oh', 'yeah', 'baby', 'make', 'let', 'aint', 'cause',\n",
      "       'feel'],\n",
      "      dtype='object')\n",
      "Index(['like', 'yeah', 'love', 'make', 'oh', 'baby', 'want', 'let', 'aint',\n",
      "       'take'],\n",
      "      dtype='object')\n",
      "Index(['like', 'yeah', 'make', 'aint', 'love', 'take', 'time', 'oh', 'let',\n",
      "       'want'],\n",
      "      dtype='object')\n",
      "Index(['yeah', 'like', 'love', 'aint', 'make', 'want', 'back', 'let', 'cause',\n",
      "       'baby'],\n",
      "      dtype='object')\n",
      "Index(['yeah', 'like', 'love', 'make', 'back', 'aint', 'want', 'tell', 'baby',\n",
      "       'let'],\n",
      "      dtype='object')\n"
     ]
    }
   ],
   "source": [
    "for index, row in df.iterrows():\n",
    "    df = df.sort_values(by=index, axis=1, ascending=False)\n",
    "    print(df.columns[0:10])"
   ]
  },
  {
   "cell_type": "markdown",
   "metadata": {},
   "source": [
    "### General and interesting findings"
   ]
  },
  {
   "cell_type": "code",
   "execution_count": 351,
   "metadata": {},
   "outputs": [],
   "source": [
    "## In general:\n",
    "#### 1) Artist owns the most songs that appears in billboard?\n",
    "#### 2) Artist appears most in billboard (by cnt)?\n",
    "#### 3) How many songs will be in the 52 weekly hot100 list per year? - around 400 - 800\n",
    "#### 4) Songs that appear in the hot100 list most.\n",
    "#### 5) Artist whose song always achieved a high rank on the list.\n",
    "#### 6) Song appears/gaps in most years\n",
    "\n",
    "## Interesting things:\n",
    "#### 1) Songs/Artists that appear again in the hotlist after a long period. \n",
    "#### 2) Songs become hot way later than its release date.\n",
    "#### 3) Songs are popular until nowadays"
   ]
  },
  {
   "cell_type": "markdown",
   "metadata": {},
   "source": [
    "#### 1) Artist owns the most songs that appears in billboard?"
   ]
  },
  {
   "cell_type": "code",
   "execution_count": 26,
   "metadata": {},
   "outputs": [
    {
     "name": "stdout",
     "output_type": "stream",
     "text": [
      "[('Glee Cast', 162), ('Drake', 90), ('Taylor Swift', 83), ('The Beatles', 62), ('Aretha Franklin', 61)]\n"
     ]
    }
   ],
   "source": [
    "artist_songs_count = {a:len(b) for a,b in artist_songs_dict.items()}\n",
    "sorted_artists = sorted(artist_songs_count.items(), key=lambda x: x[1], reverse=True)\n",
    "print(sorted_artists[:5])"
   ]
  },
  {
   "cell_type": "markdown",
   "metadata": {},
   "source": [
    "#### 2) Artist appears most in billboard (by cnt)?"
   ]
  },
  {
   "cell_type": "code",
   "execution_count": 27,
   "metadata": {},
   "outputs": [
    {
     "name": "stdout",
     "output_type": "stream",
     "text": [
      "[('Taylor Swift', 923), ('Madonna', 818), ('Elton John', 809), ('Drake', 730), ('Kenny Chesney', 729)]\n"
     ]
    }
   ],
   "source": [
    "sorted_artists_occ = sorted(artist_occ_dict.items(), key=lambda x: x[1], reverse=True)\n",
    "print(sorted_artists_occ[:5])"
   ]
  },
  {
   "cell_type": "markdown",
   "metadata": {},
   "source": [
    "#### 4) Songs that appear in the hot100 list most."
   ]
  },
  {
   "cell_type": "code",
   "execution_count": 28,
   "metadata": {},
   "outputs": [
    {
     "name": "stdout",
     "output_type": "stream",
     "text": [
      "[('Radioactive by Imagine Dragons', 87), ('Sail by AWOLNATION', 79), (\"I'm Yours by Jason Mraz\", 76), ('How Do I Live by LeAnn Rimes', 69), ('Party Rock Anthem by LMFAO Featuring Lauren Bennett & GoonRock', 68)]\n"
     ]
    }
   ],
   "source": [
    "songs_count = {}\n",
    "for k,v in songs_years_ranks.items():\n",
    "    songs_count[k] = sum([len(ranks) for y,ranks in v.items()])\n",
    "sorted_songs_count = sorted(songs_count.items(), key=lambda x: x[1], reverse=True)\n",
    "print(sorted_songs_count[:5])"
   ]
  },
  {
   "cell_type": "markdown",
   "metadata": {},
   "source": [
    "#### 5) Artist whose song always achieved a high rank on the list."
   ]
  },
  {
   "cell_type": "code",
   "execution_count": 29,
   "metadata": {},
   "outputs": [
    {
     "name": "stdout",
     "output_type": "stream",
     "text": [
      "[('Mariah Carey', 1.0), ('Bobby Helms', 3.0), ('Lewis Capaldi', 5.428571428571429), ('BLACKstreet (Featuring Dr. Dre)', 5.6923076923076925), ('Eminem Featuring Juice WRLD', 6.0)]\n"
     ]
    }
   ],
   "source": [
    "artist_average_rank = {}\n",
    "for artist, songs in artist_songs_dict.items():\n",
    "    for song in songs:\n",
    "        ranks = []\n",
    "        minRank = 101\n",
    "        for year, ranks in songs_years_ranks[song + \" by \" + artist].items():\n",
    "            minRank = min(minRank, min(ranks))\n",
    "        ranks.append(minRank)\n",
    "    artist_average_rank[artist] = sum(ranks)/len(ranks)\n",
    "sorted_songs_count = sorted(artist_average_rank.items(), key=lambda x: x[1])\n",
    "print(sorted_songs_count[:5])"
   ]
  },
  {
   "cell_type": "markdown",
   "metadata": {},
   "source": [
    "#### 6) Song appears/gaps in most years"
   ]
  },
  {
   "cell_type": "code",
   "execution_count": 30,
   "metadata": {},
   "outputs": [
    {
     "name": "stdout",
     "output_type": "stream",
     "text": [
      "Songs that shows in the billboard in most years\n",
      "[(\"Rockin' Around The Christmas Tree by Brenda Lee\", 10), ('All I Want For Christmas Is You by Mariah Carey', 10), ('The Christmas Song (Merry Christmas To You) by Nat King Cole', 8), ('Jingle Bell Rock by Bobby Helms', 7), ('White Christmas by Bing Crosby', 6)]\n"
     ]
    }
   ],
   "source": [
    "songs_appears = {a:len(b) for a,b in songs_years_ranks.items()}\n",
    "sorted_songs_appears = sorted(songs_appears.items(), key=lambda x: x[1], reverse=True)\n",
    "print(\"Songs that shows in the billboard in most years\")\n",
    "print(sorted_songs_appears[:5])"
   ]
  },
  {
   "cell_type": "code",
   "execution_count": 31,
   "metadata": {},
   "outputs": [
    {
     "name": "stdout",
     "output_type": "stream",
     "text": [
      "Songs that covers most years\n",
      "[(\"Rockin' Around The Christmas Tree by Brenda Lee\", 60), ('White Christmas by Bing Crosby', 60), ('Jingle Bell Rock by Bobby Helms', 60), ('The Christmas Song (Merry Christmas To You) by Nat King Cole', 60), ('Space Oddity by David Bowie', 43)]\n"
     ]
    }
   ],
   "source": [
    "songs_years = {a:sorted(b)[len(b) - 1] - sorted(b)[0] for a,b in songs_years_ranks.items()}\n",
    "sorted_songs_years = sorted(songs_years.items(), key=lambda x: x[1], reverse=True)\n",
    "print(\"Songs that covers most years\")\n",
    "print(sorted_songs_years[:5])"
   ]
  },
  {
   "cell_type": "code",
   "execution_count": 35,
   "metadata": {},
   "outputs": [
    {
     "data": {
      "text/plain": [
       "defaultdict(list,\n",
       "            {1960: [26, 32, 96, 55],\n",
       "             1961: [20, 33, 66],\n",
       "             1962: [38, 46, 88, 70, 12],\n",
       "             2018: [48],\n",
       "             2019: [34],\n",
       "             2020: [42, 12]})"
      ]
     },
     "execution_count": 35,
     "metadata": {},
     "output_type": "execute_result"
    }
   ],
   "source": [
    "songs_years_ranks[\"White Christmas by Bing Crosby\"]"
   ]
  },
  {
   "cell_type": "code",
   "execution_count": null,
   "metadata": {},
   "outputs": [],
   "source": []
  },
  {
   "cell_type": "markdown",
   "metadata": {},
   "source": [
    "# For the spotify feature dataset"
   ]
  },
  {
   "cell_type": "markdown",
   "metadata": {},
   "source": [
    "## In general:\n",
    "#### 1) \n",
    "\n",
    "## Changes through years:\n",
    "#### 1) Duration?\n",
    "#### 2) How about the released month of top 5 songs each year?\n",
    "\n",
    "## Interesting things:\n",
    "#### 1) "
   ]
  },
  {
   "cell_type": "code",
   "execution_count": null,
   "metadata": {},
   "outputs": [],
   "source": []
  }
 ],
 "metadata": {
  "kernelspec": {
   "display_name": "Python 3",
   "language": "python",
   "name": "python3"
  },
  "language_info": {
   "codemirror_mode": {
    "name": "ipython",
    "version": 3
   },
   "file_extension": ".py",
   "mimetype": "text/x-python",
   "name": "python",
   "nbconvert_exporter": "python",
   "pygments_lexer": "ipython3",
   "version": "3.6.5"
  }
 },
 "nbformat": 4,
 "nbformat_minor": 2
}
