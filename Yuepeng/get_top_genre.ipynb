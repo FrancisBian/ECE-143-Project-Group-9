{
 "cells": [
  {
   "cell_type": "code",
   "execution_count": 1,
   "metadata": {},
   "outputs": [
    {
     "name": "stdout",
     "output_type": "stream",
     "text": [
      "success\n"
     ]
    }
   ],
   "source": [
    "import math\n",
    "import pandas as pd\n",
    "\n",
    "yearly_tempo = {} # key: year, value: average tempo of songs\n",
    "\n",
    "def statgenre(genre_of_year, genre_dict):\n",
    "    for genres in genre_of_year:\n",
    "        if isinstance(genres, float):\n",
    "            continue\n",
    "        for genre in eval(genres):\n",
    "            if not genre in genre_dict:\n",
    "                genre_dict[genre] = 1\n",
    "            else:\n",
    "                genre_dict[genre] += 1\n",
    "                \n",
    "def traverse_dataset():\n",
    "    yearly_genre = {}\n",
    "    for year in range(1960, 2021):\n",
    "        df = pd.read_csv('/Users/shenyuepeng/Desktop/ece143/ece143project-master/combined_dataset/lyrics&features_{}.csv'.format(year))\n",
    "        yearly_genre[year] = {}\n",
    "        statgenre(df['artist_genres'], yearly_genre[year])\n",
    "    return yearly_genre\n",
    "\n",
    "res = traverse_dataset()\n",
    "\n",
    "dataframe = pd.DataFrame(res)\n",
    "\n",
    "dataframe.to_csv(\"test.csv\",index=True,sep=',')\n",
    "print(\"success\")\n"
   ]
  },
  {
   "cell_type": "code",
   "execution_count": 2,
   "metadata": {},
   "outputs": [
    {
     "name": "stdout",
     "output_type": "stream",
     "text": [
      "1960 ['brill building pop', 'rock-and-roll', 'adult standards', 'rockabilly', 'doo-wop']\n",
      "1961 ['brill building pop', 'adult standards', 'rock-and-roll', 'rockabilly', 'rhythm and blues']\n",
      "1962 ['brill building pop', 'adult standards', 'rock-and-roll', 'soul', 'rockabilly']\n",
      "1963 ['brill building pop', 'adult standards', 'rock-and-roll', 'motown', 'soul']\n",
      "1964 ['brill building pop', 'adult standards', 'rock-and-roll', 'motown', 'soul']\n",
      "1965 ['brill building pop', 'adult standards', 'folk rock', 'rock-and-roll', 'bubblegum pop']\n",
      "1966 ['brill building pop', 'folk rock', 'bubblegum pop', 'adult standards', 'rock-and-roll']\n",
      "1967 ['brill building pop', 'folk rock', 'adult standards', 'bubblegum pop', 'motown']\n",
      "1968 ['brill building pop', 'soul', 'motown', 'folk rock', 'classic soul']\n",
      "1969 ['brill building pop', 'soul', 'motown', 'folk rock', 'classic soul']\n",
      "1970 ['folk rock', 'mellow gold', 'motown', 'soul', 'brill building pop']\n",
      "1971 ['mellow gold', 'folk rock', 'soul', 'motown', 'soft rock']\n",
      "1972 ['mellow gold', 'folk rock', 'soft rock', 'classic rock', 'soul']\n",
      "1973 ['mellow gold', 'soft rock', 'soul', 'motown', 'funk']\n",
      "1974 ['mellow gold', 'soft rock', 'motown', 'soul', 'funk']\n",
      "1975 ['mellow gold', 'soft rock', 'disco', 'folk rock', 'classic rock']\n",
      "1976 ['soft rock', 'mellow gold', 'classic rock', 'disco', 'album rock']\n",
      "1977 ['soft rock', 'mellow gold', 'classic rock', 'album rock', 'rock']\n",
      "1978 ['soft rock', 'mellow gold', 'classic rock', 'album rock', 'rock']\n",
      "1979 ['soft rock', 'mellow gold', 'classic rock', 'album rock', 'rock']\n",
      "1980 ['soft rock', 'mellow gold', 'classic rock', 'album rock', 'rock']\n",
      "1981 ['soft rock', 'mellow gold', 'classic rock', 'album rock', 'rock']\n",
      "1982 ['soft rock', 'mellow gold', 'album rock', 'rock', 'classic rock']\n",
      "1983 ['soft rock', 'mellow gold', 'album rock', 'rock', 'classic rock']\n",
      "1984 ['soft rock', 'mellow gold', 'album rock', 'new wave pop', 'rock']\n",
      "1985 ['soft rock', 'mellow gold', 'new wave pop', 'album rock', 'rock']\n",
      "1986 ['soft rock', 'mellow gold', 'new wave pop', 'rock', 'album rock']\n",
      "1987 ['soft rock', 'new wave pop', 'mellow gold', 'rock', 'album rock']\n",
      "1988 ['new wave pop', 'soft rock', 'rock', 'mellow gold', 'album rock']\n",
      "1989 ['new wave pop', 'rock', 'soft rock', 'album rock', 'mellow gold']\n",
      "1990 ['rock', 'soft rock', 'album rock', 'new wave pop', 'mellow gold']\n",
      "1991 ['rock', 'urban contemporary', 'soft rock', 'album rock', 'hard rock']\n",
      "1992 ['rock', 'urban contemporary', 'new jack swing', 'r&b', 'soft rock']\n",
      "1993 ['urban contemporary', 'new jack swing', 'r&b', 'hip hop', 'dance pop']\n",
      "1994 ['urban contemporary', 'r&b', 'new jack swing', 'hip hop', 'rock']\n",
      "1995 ['urban contemporary', 'r&b', 'new jack swing', 'hip hop', 'pop rock']\n",
      "1996 ['r&b', 'new jack swing', 'pop rock', 'urban contemporary', 'hip hop']\n",
      "1997 ['r&b', 'urban contemporary', 'dance pop', 'new jack swing', 'hip pop']\n",
      "1998 ['dance pop', 'pop rock', 'country', 'urban contemporary', 'r&b']\n",
      "1999 ['dance pop', 'country', 'country road', 'urban contemporary', 'r&b']\n",
      "2000 ['dance pop', 'country', 'urban contemporary', 'r&b', 'country road']\n",
      "2001 ['dance pop', 'country', 'urban contemporary', 'country road', 'r&b']\n",
      "2002 ['dance pop', 'urban contemporary', 'country', 'r&b', 'pop']\n",
      "2003 ['dance pop', 'country', 'country road', 'contemporary country', 'pop rap']\n",
      "2004 ['country', 'country road', 'contemporary country', 'dance pop', 'pop rap']\n",
      "2005 ['country', 'dance pop', 'country road', 'contemporary country', 'pop']\n",
      "2006 ['dance pop', 'pop', 'country', 'country road', 'contemporary country']\n",
      "2007 ['dance pop', 'pop', 'country', 'contemporary country', 'country road']\n",
      "2008 ['dance pop', 'pop', 'post-teen pop', 'country', 'country road']\n",
      "2009 ['dance pop', 'pop', 'post-teen pop', 'country road', 'contemporary country']\n",
      "2010 ['post-teen pop', 'pop', 'dance pop', 'country', 'contemporary country']\n",
      "2011 ['post-teen pop', 'pop', 'dance pop', 'contemporary country', 'country']\n",
      "2012 ['pop', 'dance pop', 'post-teen pop', 'contemporary country', 'country road']\n",
      "2013 ['pop', 'dance pop', 'contemporary country', 'post-teen pop', 'country']\n",
      "2014 ['pop', 'dance pop', 'contemporary country', 'post-teen pop', 'country']\n",
      "2015 ['pop', 'post-teen pop', 'dance pop', 'contemporary country', 'country road']\n",
      "2016 ['pop', 'dance pop', 'rap', 'pop rap', 'post-teen pop']\n",
      "2017 ['rap', 'pop', 'pop rap', 'contemporary country', 'trap']\n",
      "2018 ['rap', 'pop rap', 'pop', 'hip hop', 'trap']\n",
      "2019 ['pop', 'rap', 'post-teen pop', 'dance pop', 'trap']\n",
      "2020 ['pop', 'rap', 'contemporary country', 'pop rap', 'post-teen pop']\n"
     ]
    }
   ],
   "source": [
    "for i in res:\n",
    "    sorted_genre = sorted(res[i], key=lambda x: res[i][x], reverse=True)\n",
    "    print(i, sorted_genre[:5])"
   ]
  },
  {
   "cell_type": "code",
   "execution_count": null,
   "metadata": {},
   "outputs": [],
   "source": []
  }
 ],
 "metadata": {
  "kernelspec": {
   "display_name": "Python 3",
   "language": "python",
   "name": "python3"
  },
  "language_info": {
   "codemirror_mode": {
    "name": "ipython",
    "version": 3
   },
   "file_extension": ".py",
   "mimetype": "text/x-python",
   "name": "python",
   "nbconvert_exporter": "python",
   "pygments_lexer": "ipython3",
   "version": "3.8.1"
  }
 },
 "nbformat": 4,
 "nbformat_minor": 4
}
