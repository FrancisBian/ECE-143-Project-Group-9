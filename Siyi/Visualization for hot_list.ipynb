{
 "cells": [
  {
   "cell_type": "code",
   "execution_count": 44,
   "metadata": {},
   "outputs": [],
   "source": [
    "import pandas as pd\n",
    "import wordcloud\n",
    "import os"
   ]
  },
  {
   "cell_type": "code",
   "execution_count": 63,
   "metadata": {},
   "outputs": [],
   "source": [
    "path=\"combined_dataset\"  \n",
    "path_list=os.listdir(path)\n",
    "path_list.sort() \n",
    "font='myfont.ttf' \n",
    "for filename in path_list:\n",
    "    df=pd.read_csv(os.path.join(path,filename))\n",
    "    year_list=[] \n",
    "    for i in range(len(df)):\n",
    "        cur_list = df.loc[i,'words'].replace('\\'', '')\n",
    "        cur_list = cur_list.strip('][').split(', ')\n",
    "        if len(li) != 0:\n",
    "            year_list += [wd for wd in cur_list]\n",
    "    #convert to string\n",
    "    ss=' '.join(year_list)\n",
    "    #Generate yearly wordcloud\n",
    "    c =wordcloud.WordCloud(scale=2,font_path=font,background_color='white',\n",
    "                 max_words = 80,max_font_size = 100,random_state=20)\n",
    "    c.generate(ss)  \n",
    "    #save pic\n",
    "    c.to_file(\"wordcloud\"+str(filename[-8:-4])+\".png\")     "
   ]
  },
  {
   "cell_type": "code",
   "execution_count": null,
   "metadata": {},
   "outputs": [],
   "source": []
  }
 ],
 "metadata": {
  "kernelspec": {
   "display_name": "Python 3",
   "language": "python",
   "name": "python3"
  },
  "language_info": {
   "codemirror_mode": {
    "name": "ipython",
    "version": 3
   },
   "file_extension": ".py",
   "mimetype": "text/x-python",
   "name": "python",
   "nbconvert_exporter": "python",
   "pygments_lexer": "ipython3",
   "version": "3.7.4"
  }
 },
 "nbformat": 4,
 "nbformat_minor": 2
}
